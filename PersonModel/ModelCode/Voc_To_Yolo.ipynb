{
 "cells": [
  {
   "cell_type": "code",
   "execution_count": 5,
   "metadata": {},
   "outputs": [],
   "source": [
    "import os\n",
    "import xml.etree.ElementTree as ET\n",
    "#converting the pascalVOC data imges into yolov8 format i.e txt format\n",
    "def convert_voc_to_yolo(voc_dir, output_dir, classes):\n",
    "    \n",
    "    if not os.path.exists(output_dir):\n",
    "        os.makedirs(output_dir)\n",
    "    \n",
    "    for xml_file in os.listdir(voc_dir):\n",
    "        if xml_file.endswith('.xml'):\n",
    "            tree = ET.parse(os.path.join(voc_dir, xml_file))\n",
    "            root = tree.getroot()\n",
    "            \n",
    "            image_width = int(root.find('size/width').text)\n",
    "            image_height = int(root.find('size/height').text)\n",
    "            \n",
    "            with open(os.path.join(output_dir, os.path.splitext(xml_file)[0] + '.txt'), 'w') as yolo_file:\n",
    "                for obj in root.findall('object'):\n",
    "                    class_name = obj.find('name').text\n",
    "                    if class_name not in classes:\n",
    "                        continue\n",
    "                    class_id = classes.index(class_name)\n",
    "                    \n",
    "                    bbox = obj.find('bndbox')\n",
    "                    xmin = int(bbox.find('xmin').text)\n",
    "                    ymin = int(bbox.find('ymin').text)\n",
    "                    xmax = int(bbox.find('xmax').text)\n",
    "                    ymax = int(bbox.find('ymax').text)\n",
    "                    \n",
    "                    # Calculate YOLO format values\n",
    "                    center_x = (xmin + xmax) / 2 / image_width\n",
    "                    center_y = (ymin + ymax) / 2 / image_height\n",
    "                    width = (xmax - xmin) / image_width\n",
    "                    height = (ymax - ymin) / image_height\n",
    "                    \n",
    "                    # Write to YOLO format file\n",
    "                    yolo_file.write(f\"{class_id} {center_x} {center_y} {width} {height}\\n\")\n",
    "\n",
    "\n",
    "voc_dir = 'C:/Users/midiy/OneDrive/Desktop/datasets/datasets/labels'\n",
    "output_dir = 'C:/Users/midiy/OneDrive/Desktop/datasets/datasets/YOLO_labels'\n",
    "classes = ['person']  # Replacing actual class names\n",
    "\n",
    "convert_voc_to_yolo(voc_dir, output_dir, classes)\n"
   ]
  }
 ],
 "metadata": {
  "kernelspec": {
   "display_name": "Python 3",
   "language": "python",
   "name": "python3"
  },
  "language_info": {
   "codemirror_mode": {
    "name": "ipython",
    "version": 3
   },
   "file_extension": ".py",
   "mimetype": "text/x-python",
   "name": "python",
   "nbconvert_exporter": "python",
   "pygments_lexer": "ipython3",
   "version": "3.11.4"
  }
 },
 "nbformat": 4,
 "nbformat_minor": 2
}
