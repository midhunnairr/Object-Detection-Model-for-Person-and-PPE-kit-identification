{
 "cells": [
  {
   "cell_type": "code",
   "execution_count": 2,
   "metadata": {},
   "outputs": [
    {
     "name": "stdout",
     "output_type": "stream",
     "text": [
      "Training images: 332\n",
      "Validation images: 84\n"
     ]
    }
   ],
   "source": [
    "import os\n",
    "import shutil\n",
    "from sklearn.model_selection import train_test_split\n",
    "\n",
    "def split_dataset(image_dir, label_dir, output_dir, val_size=0.2, random_state=42):\n",
    "    # Get list of all image files\n",
    "    images = [f for f in os.listdir(image_dir) if os.path.isfile(os.path.join(image_dir, f))]\n",
    "    \n",
    "    # Ensure corresponding label files exist\n",
    "    images = [img for img in images if os.path.isfile(os.path.join(label_dir, os.path.splitext(img)[0] + '.txt'))]\n",
    "\n",
    "    # Split the dataset\n",
    "    train_images, val_images = train_test_split(images, test_size=val_size, random_state=random_state)\n",
    "    \n",
    "    # Create directories for train and validation sets\n",
    "    train_image_dir = os.path.join(output_dir, 'train', 'images')\n",
    "    train_label_dir = os.path.join(output_dir, 'train', 'labels')\n",
    "    val_image_dir = os.path.join(output_dir, 'val', 'images')\n",
    "    val_label_dir = os.path.join(output_dir, 'val', 'labels')\n",
    "\n",
    "    os.makedirs(train_image_dir, exist_ok=True)\n",
    "    os.makedirs(train_label_dir, exist_ok=True)\n",
    "    os.makedirs(val_image_dir, exist_ok=True)\n",
    "    os.makedirs(val_label_dir, exist_ok=True)\n",
    "    \n",
    "    # Function to copy files to destination\n",
    "    def copy_files(files, src_image_dir, src_label_dir, dst_image_dir, dst_label_dir):\n",
    "        for file in files:\n",
    "            # Copy image file\n",
    "            shutil.copy(os.path.join(src_image_dir, file), os.path.join(dst_image_dir, file))\n",
    "            # Copy label file\n",
    "            label_file = os.path.splitext(file)[0] + '.txt'\n",
    "            shutil.copy(os.path.join(src_label_dir, label_file), os.path.join(dst_label_dir, label_file))\n",
    "    \n",
    "    # Copy training files\n",
    "    copy_files(train_images, image_dir, label_dir, train_image_dir, train_label_dir)\n",
    "    \n",
    "    # Copy validation files\n",
    "    copy_files(val_images, image_dir, label_dir, val_image_dir, val_label_dir)\n",
    "    \n",
    "    print(f\"Training images: {len(train_images)}\")\n",
    "    print(f\"Validation images: {len(val_images)}\")\n",
    "\n",
    "\n",
    "image_dir = 'C:/Users/midiy/OneDrive/Desktop/datasets/datasets/images'  \n",
    "label_dir = 'C:/Users/midiy/OneDrive/Desktop/datasets/datasets/YOLO_labels'  \n",
    "output_dir = 'C:/Users/midiy/OneDrive/Desktop/result/Out_Data'  \n",
    "\n",
    "split_dataset(image_dir, label_dir, output_dir)\n"
   ]
  },
  {
   "cell_type": "code",
   "execution_count": null,
   "metadata": {},
   "outputs": [],
   "source": []
  }
 ],
 "metadata": {
  "kernelspec": {
   "display_name": "Python 3",
   "language": "python",
   "name": "python3"
  },
  "language_info": {
   "codemirror_mode": {
    "name": "ipython",
    "version": 3
   },
   "file_extension": ".py",
   "mimetype": "text/x-python",
   "name": "python",
   "nbconvert_exporter": "python",
   "pygments_lexer": "ipython3",
   "version": "3.11.4"
  }
 },
 "nbformat": 4,
 "nbformat_minor": 2
}
